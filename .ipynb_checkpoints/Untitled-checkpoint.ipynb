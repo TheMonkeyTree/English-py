{
 "cells": [
  {
   "cell_type": "code",
   "execution_count": null,
   "id": "d65903fc",
   "metadata": {},
   "outputs": [
    {
     "name": "stdout",
     "output_type": "stream",
     "text": [
      "14\n",
      "ligne n° :  7 \t Phrases réussies :  0 / 14\n",
      "\n",
      "Je t'aimerai toujours.\n",
      "\n",
      "trad? : I'll love you for ever.\n",
      "perdu :\t\t I'll love you forever.\n",
      "trad? :\t\tI'll love you for ever.\n",
      "perdu :\t\t I'll love you forever.\n",
      "trad? :\t\tI'll love you for ever.\n",
      "perdu :\t\t I'll love you forever.\n"
     ]
    }
   ],
   "source": [
    "#! /usr/bin/env python\n",
    "# -*- coding: Utf-8 -*-\n",
    "import os, random, sys\n",
    "\n",
    "def somme(liste):\n",
    "    _somme = 0\n",
    "    for i in liste:\n",
    "        _somme = _somme + i\n",
    "    return _somme\n",
    "    \n",
    "fichier = open(\"129 ever et never.txt\",'r',encoding=\"utf-8\")\n",
    "                  \n",
    "              \n",
    "tab = fichier.readlines()\n",
    "n=len(tab)\n",
    "print(n)\n",
    "\n",
    "poids = [0]*(n)\n",
    "\n",
    "\n",
    "for i in range(n):\n",
    "    choice = random.randrange(0,n)\n",
    "    while (poids[choice]==1):\n",
    "        choice = random.randrange(0,n)\n",
    "    if (poids[choice]==0):\n",
    "        \n",
    "        print(\"ligne n° : \",choice+1,\"\\t Phrases réussies : \",somme(poids),\"/\",n)\n",
    "        phrases = tab[choice].split('_')\n",
    "        \n",
    "        print('')\n",
    "        print(phrases[1])\n",
    "        sentence = input(\"trad? : \")\n",
    "        if (len(sentence)==1 and sentence!='w'):\n",
    "            sys.exit(\"Fin de partie\")\n",
    "        if (sentence=='w'):\n",
    "            print(\"Je passe\")\n",
    "            sentence='je passe'\n",
    "            continue\n",
    "        while (sentence != str(phrases[0]) and sentence!='je passe') :\n",
    "            print(\"perdu :\\t\\t\",phrases[0])\n",
    "            sentence = input(\"trad? :\\t\\t\")\n",
    "            if (sentence=='p'):\n",
    "                print(\"Je passe\")\n",
    "                sentence='je passe'\n",
    "                continue\n",
    "        print(\"\\n\\t-----------------  OK  ---------------\")\n",
    "        poids[choice]=1\n",
    "print(\"##### FIN DU FICHIER #####\") \n",
    "fichier.close()\n",
    "\n",
    "\n"
   ]
  }
 ],
 "metadata": {
  "kernelspec": {
   "display_name": "Python 3 (ipykernel)",
   "language": "python",
   "name": "python3"
  },
  "language_info": {
   "codemirror_mode": {
    "name": "ipython",
    "version": 3
   },
   "file_extension": ".py",
   "mimetype": "text/x-python",
   "name": "python",
   "nbconvert_exporter": "python",
   "pygments_lexer": "ipython3",
   "version": "3.9.7"
  }
 },
 "nbformat": 4,
 "nbformat_minor": 5
}
